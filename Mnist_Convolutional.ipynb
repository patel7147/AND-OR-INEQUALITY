{
  "nbformat": 4,
  "nbformat_minor": 0,
  "metadata": {
    "colab": {
      "name": "Mnist-Convolutional.ipynb",
      "provenance": [],
      "authorship_tag": "ABX9TyNHNTpHQutFlh/a08EPIhHY",
      "include_colab_link": true
    },
    "kernelspec": {
      "name": "python3",
      "display_name": "Python 3"
    },
    "accelerator": "GPU"
  },
  "cells": [
    {
      "cell_type": "markdown",
      "metadata": {
        "id": "view-in-github",
        "colab_type": "text"
      },
      "source": [
        "<a href=\"https://colab.research.google.com/github/patel7147/ROYAL_DL/blob/master/Mnist_Convolutional.ipynb\" target=\"_parent\"><img src=\"https://colab.research.google.com/assets/colab-badge.svg\" alt=\"Open In Colab\"/></a>"
      ]
    },
    {
      "cell_type": "code",
      "metadata": {
        "id": "flUanZGEflDY",
        "colab_type": "code",
        "colab": {}
      },
      "source": [
        "from tensorflow.keras import datasets , layers , models\n",
        "import matplotlib.pyplot as plt\n",
        "from tensorflow.keras.utils import to_categorical"
      ],
      "execution_count": 2,
      "outputs": []
    },
    {
      "cell_type": "code",
      "metadata": {
        "id": "37eH1jdYf_f-",
        "colab_type": "code",
        "colab": {
          "base_uri": "https://localhost:8080/",
          "height": 122
        },
        "outputId": "bd0772fc-2214-4028-fe02-f39fb470af5e"
      },
      "source": [
        "\n",
        "(train_images , train_labels) , (test_images , test_labels) = datasets.mnist.load_data()\n",
        "train_images , test_images = train_images / 255.0 , test_images / 255.0\n",
        "train_labels = to_categorical(train_labels)\n",
        "test_labels = to_categorical(test_labels)\n",
        "train_images = train_images.reshape(train_images.shape[0],28,28,1)\n",
        "test_images = test_images.reshape(test_images.shape[0],28,28,1)\n",
        "print(train_images.shape)\n",
        "print(test_images.shape)\n",
        "print(train_labels.shape)\n",
        "print(test_labels.shape)"
      ],
      "execution_count": 3,
      "outputs": [
        {
          "output_type": "stream",
          "text": [
            "Downloading data from https://storage.googleapis.com/tensorflow/tf-keras-datasets/mnist.npz\n",
            "11493376/11490434 [==============================] - 0s 0us/step\n",
            "(60000, 28, 28, 1)\n",
            "(10000, 28, 28, 1)\n",
            "(60000, 10)\n",
            "(10000, 10)\n"
          ],
          "name": "stdout"
        }
      ]
    },
    {
      "cell_type": "code",
      "metadata": {
        "id": "SM_zofnthTMy",
        "colab_type": "code",
        "colab": {
          "base_uri": "https://localhost:8080/",
          "height": 334
        },
        "outputId": "8246380a-79c7-47f3-d907-07e6a286df16"
      },
      "source": [
        "model = models.Sequential()\n",
        "model.add(layers.Conv2D(32,(3,3), activation = 'relu' , input_shape = (28,28,1)))\n",
        "model.add(layers.MaxPooling2D((2,2)))\n",
        "model.add(layers.Conv2D(64,(3,3),activation = 'relu'))\n",
        "model.add(layers.MaxPooling2D((2,2)))\n",
        "model.add(layers.Conv2D(64,(3,3),activation = 'relu'))\n",
        "\n",
        "model.summary()"
      ],
      "execution_count": 4,
      "outputs": [
        {
          "output_type": "stream",
          "text": [
            "Model: \"sequential\"\n",
            "_________________________________________________________________\n",
            "Layer (type)                 Output Shape              Param #   \n",
            "=================================================================\n",
            "conv2d (Conv2D)              (None, 26, 26, 32)        320       \n",
            "_________________________________________________________________\n",
            "max_pooling2d (MaxPooling2D) (None, 13, 13, 32)        0         \n",
            "_________________________________________________________________\n",
            "conv2d_1 (Conv2D)            (None, 11, 11, 64)        18496     \n",
            "_________________________________________________________________\n",
            "max_pooling2d_1 (MaxPooling2 (None, 5, 5, 64)          0         \n",
            "_________________________________________________________________\n",
            "conv2d_2 (Conv2D)            (None, 3, 3, 64)          36928     \n",
            "=================================================================\n",
            "Total params: 55,744\n",
            "Trainable params: 55,744\n",
            "Non-trainable params: 0\n",
            "_________________________________________________________________\n"
          ],
          "name": "stdout"
        }
      ]
    },
    {
      "cell_type": "code",
      "metadata": {
        "id": "YFNm3v3xiabG",
        "colab_type": "code",
        "colab": {
          "base_uri": "https://localhost:8080/",
          "height": 510
        },
        "outputId": "2f951c2d-f061-4a47-cc09-2d08febed616"
      },
      "source": [
        "\n",
        "model.add(layers.Flatten())\n",
        "model.add(layers.Dense(64, activation = 'relu'))\n",
        "model.add(layers.Dense(64, activation = 'relu'))\n",
        "model.add(layers.Dense(64, activation = 'relu'))\n",
        "model.add(layers.Dense(10, activation = 'softmax'))\n",
        "\n",
        "model.summary()"
      ],
      "execution_count": 5,
      "outputs": [
        {
          "output_type": "stream",
          "text": [
            "Model: \"sequential\"\n",
            "_________________________________________________________________\n",
            "Layer (type)                 Output Shape              Param #   \n",
            "=================================================================\n",
            "conv2d (Conv2D)              (None, 26, 26, 32)        320       \n",
            "_________________________________________________________________\n",
            "max_pooling2d (MaxPooling2D) (None, 13, 13, 32)        0         \n",
            "_________________________________________________________________\n",
            "conv2d_1 (Conv2D)            (None, 11, 11, 64)        18496     \n",
            "_________________________________________________________________\n",
            "max_pooling2d_1 (MaxPooling2 (None, 5, 5, 64)          0         \n",
            "_________________________________________________________________\n",
            "conv2d_2 (Conv2D)            (None, 3, 3, 64)          36928     \n",
            "_________________________________________________________________\n",
            "flatten (Flatten)            (None, 576)               0         \n",
            "_________________________________________________________________\n",
            "dense (Dense)                (None, 64)                36928     \n",
            "_________________________________________________________________\n",
            "dense_1 (Dense)              (None, 64)                4160      \n",
            "_________________________________________________________________\n",
            "dense_2 (Dense)              (None, 64)                4160      \n",
            "_________________________________________________________________\n",
            "dense_3 (Dense)              (None, 10)                650       \n",
            "=================================================================\n",
            "Total params: 101,642\n",
            "Trainable params: 101,642\n",
            "Non-trainable params: 0\n",
            "_________________________________________________________________\n"
          ],
          "name": "stdout"
        }
      ]
    },
    {
      "cell_type": "code",
      "metadata": {
        "id": "eKV_Nd50icIq",
        "colab_type": "code",
        "colab": {
          "base_uri": "https://localhost:8080/",
          "height": 369
        },
        "outputId": "d6647b07-fd7c-48ff-d710-1346b750d082"
      },
      "source": [
        "model.compile(optimizer = 'adam' , loss = 'categorical_crossentropy' , metrics = ['accuracy'])\n",
        "model.fit(train_images , train_labels , epochs = 10)\n",
        "test_pred = model.predict(test_images)\n"
      ],
      "execution_count": 6,
      "outputs": [
        {
          "output_type": "stream",
          "text": [
            "Epoch 1/10\n",
            "1875/1875 [==============================] - 11s 6ms/step - loss: 0.1778 - accuracy: 0.9439\n",
            "Epoch 2/10\n",
            "1875/1875 [==============================] - 11s 6ms/step - loss: 0.0554 - accuracy: 0.9829\n",
            "Epoch 3/10\n",
            "1875/1875 [==============================] - 11s 6ms/step - loss: 0.0408 - accuracy: 0.9874\n",
            "Epoch 4/10\n",
            "1875/1875 [==============================] - 11s 6ms/step - loss: 0.0311 - accuracy: 0.9906\n",
            "Epoch 5/10\n",
            "1875/1875 [==============================] - 11s 6ms/step - loss: 0.0243 - accuracy: 0.9930\n",
            "Epoch 6/10\n",
            "1875/1875 [==============================] - 11s 6ms/step - loss: 0.0218 - accuracy: 0.9935\n",
            "Epoch 7/10\n",
            "1875/1875 [==============================] - 11s 6ms/step - loss: 0.0178 - accuracy: 0.9947\n",
            "Epoch 8/10\n",
            "1875/1875 [==============================] - 11s 6ms/step - loss: 0.0173 - accuracy: 0.9948\n",
            "Epoch 9/10\n",
            "1875/1875 [==============================] - 11s 6ms/step - loss: 0.0155 - accuracy: 0.9950\n",
            "Epoch 10/10\n",
            "1875/1875 [==============================] - 11s 6ms/step - loss: 0.0131 - accuracy: 0.9959\n"
          ],
          "name": "stdout"
        }
      ]
    },
    {
      "cell_type": "code",
      "metadata": {
        "id": "QutlrdIPjHKr",
        "colab_type": "code",
        "colab": {
          "base_uri": "https://localhost:8080/",
          "height": 1000
        },
        "outputId": "bf2c7a16-f77b-485e-9c7c-036a8f5373fc"
      },
      "source": [
        "model.compile(optimizer = 'adam' , loss = 'categorical_crossentropy' , metrics = ['accuracy'])\n",
        "model.fit(train_images , train_labels , epochs = 100)\n",
        "test_pred = model.predict(test_images)"
      ],
      "execution_count": 7,
      "outputs": [
        {
          "output_type": "stream",
          "text": [
            "Epoch 1/100\n",
            "1875/1875 [==============================] - 11s 6ms/step - loss: 0.0145 - accuracy: 0.9955\n",
            "Epoch 2/100\n",
            "1875/1875 [==============================] - 11s 6ms/step - loss: 0.0102 - accuracy: 0.9969\n",
            "Epoch 3/100\n",
            "1875/1875 [==============================] - 11s 6ms/step - loss: 0.0108 - accuracy: 0.9970\n",
            "Epoch 4/100\n",
            "1875/1875 [==============================] - 11s 6ms/step - loss: 0.0104 - accuracy: 0.9971\n",
            "Epoch 5/100\n",
            "1875/1875 [==============================] - 11s 6ms/step - loss: 0.0066 - accuracy: 0.9979\n",
            "Epoch 6/100\n",
            "1875/1875 [==============================] - 11s 6ms/step - loss: 0.0104 - accuracy: 0.9968\n",
            "Epoch 7/100\n",
            "1875/1875 [==============================] - 11s 6ms/step - loss: 0.0065 - accuracy: 0.9982\n",
            "Epoch 8/100\n",
            "1875/1875 [==============================] - 11s 6ms/step - loss: 0.0079 - accuracy: 0.9978\n",
            "Epoch 9/100\n",
            "1875/1875 [==============================] - 11s 6ms/step - loss: 0.0086 - accuracy: 0.9974\n",
            "Epoch 10/100\n",
            "1875/1875 [==============================] - 11s 6ms/step - loss: 0.0058 - accuracy: 0.9985\n",
            "Epoch 11/100\n",
            "1875/1875 [==============================] - 11s 6ms/step - loss: 0.0071 - accuracy: 0.9979\n",
            "Epoch 12/100\n",
            "1875/1875 [==============================] - 11s 6ms/step - loss: 0.0058 - accuracy: 0.9984\n",
            "Epoch 13/100\n",
            "1875/1875 [==============================] - 11s 6ms/step - loss: 0.0065 - accuracy: 0.9981\n",
            "Epoch 14/100\n",
            "1875/1875 [==============================] - 11s 6ms/step - loss: 0.0078 - accuracy: 0.9980\n",
            "Epoch 15/100\n",
            "1875/1875 [==============================] - 11s 6ms/step - loss: 0.0057 - accuracy: 0.9986\n",
            "Epoch 16/100\n",
            "1875/1875 [==============================] - 12s 6ms/step - loss: 0.0055 - accuracy: 0.9983\n",
            "Epoch 17/100\n",
            "1875/1875 [==============================] - 11s 6ms/step - loss: 0.0066 - accuracy: 0.9983\n",
            "Epoch 18/100\n",
            "1875/1875 [==============================] - 11s 6ms/step - loss: 0.0041 - accuracy: 0.9989\n",
            "Epoch 19/100\n",
            "1875/1875 [==============================] - 11s 6ms/step - loss: 0.0061 - accuracy: 0.9984\n",
            "Epoch 20/100\n",
            "1875/1875 [==============================] - 11s 6ms/step - loss: 0.0054 - accuracy: 0.9984\n",
            "Epoch 21/100\n",
            "1875/1875 [==============================] - 11s 6ms/step - loss: 0.0051 - accuracy: 0.9987\n",
            "Epoch 22/100\n",
            "1875/1875 [==============================] - 11s 6ms/step - loss: 0.0047 - accuracy: 0.9988\n",
            "Epoch 23/100\n",
            "1875/1875 [==============================] - 12s 6ms/step - loss: 0.0045 - accuracy: 0.9989\n",
            "Epoch 24/100\n",
            "1875/1875 [==============================] - 12s 6ms/step - loss: 0.0072 - accuracy: 0.9981\n",
            "Epoch 25/100\n",
            "1875/1875 [==============================] - 11s 6ms/step - loss: 0.0043 - accuracy: 0.9990\n",
            "Epoch 26/100\n",
            "1875/1875 [==============================] - 11s 6ms/step - loss: 0.0054 - accuracy: 0.9987\n",
            "Epoch 27/100\n",
            "1875/1875 [==============================] - 11s 6ms/step - loss: 0.0066 - accuracy: 0.9986\n",
            "Epoch 28/100\n",
            "1875/1875 [==============================] - 11s 6ms/step - loss: 0.0046 - accuracy: 0.9990\n",
            "Epoch 29/100\n",
            "1875/1875 [==============================] - 11s 6ms/step - loss: 0.0054 - accuracy: 0.9985\n",
            "Epoch 30/100\n",
            "1875/1875 [==============================] - 11s 6ms/step - loss: 0.0028 - accuracy: 0.9992\n",
            "Epoch 31/100\n",
            "1875/1875 [==============================] - 11s 6ms/step - loss: 0.0066 - accuracy: 0.9988\n",
            "Epoch 32/100\n",
            "1875/1875 [==============================] - 11s 6ms/step - loss: 0.0063 - accuracy: 0.9985\n",
            "Epoch 33/100\n",
            "1875/1875 [==============================] - 11s 6ms/step - loss: 0.0053 - accuracy: 0.9989\n",
            "Epoch 34/100\n",
            "1875/1875 [==============================] - 11s 6ms/step - loss: 0.0047 - accuracy: 0.9991\n",
            "Epoch 35/100\n",
            "1875/1875 [==============================] - 11s 6ms/step - loss: 0.0029 - accuracy: 0.9993\n",
            "Epoch 36/100\n",
            "1875/1875 [==============================] - 11s 6ms/step - loss: 0.0027 - accuracy: 0.9994\n",
            "Epoch 37/100\n",
            "1875/1875 [==============================] - 11s 6ms/step - loss: 0.0055 - accuracy: 0.9988\n",
            "Epoch 38/100\n",
            "1875/1875 [==============================] - 11s 6ms/step - loss: 0.0067 - accuracy: 0.9986\n",
            "Epoch 39/100\n",
            "1875/1875 [==============================] - 11s 6ms/step - loss: 0.0062 - accuracy: 0.9988\n",
            "Epoch 40/100\n",
            "1875/1875 [==============================] - 11s 6ms/step - loss: 0.0028 - accuracy: 0.9995\n",
            "Epoch 41/100\n",
            "1875/1875 [==============================] - 11s 6ms/step - loss: 0.0068 - accuracy: 0.9988\n",
            "Epoch 42/100\n",
            "1875/1875 [==============================] - 11s 6ms/step - loss: 0.0038 - accuracy: 0.9991\n",
            "Epoch 43/100\n",
            "1875/1875 [==============================] - 11s 6ms/step - loss: 0.0036 - accuracy: 0.9992\n",
            "Epoch 44/100\n",
            "1875/1875 [==============================] - 11s 6ms/step - loss: 0.0030 - accuracy: 0.9994\n",
            "Epoch 45/100\n",
            "1875/1875 [==============================] - 11s 6ms/step - loss: 0.0086 - accuracy: 0.9984\n",
            "Epoch 46/100\n",
            "1875/1875 [==============================] - 11s 6ms/step - loss: 0.0038 - accuracy: 0.9991\n",
            "Epoch 47/100\n",
            "1875/1875 [==============================] - 11s 6ms/step - loss: 0.0015 - accuracy: 0.9997\n",
            "Epoch 48/100\n",
            "1875/1875 [==============================] - 11s 6ms/step - loss: 0.0071 - accuracy: 0.9987\n",
            "Epoch 49/100\n",
            "1875/1875 [==============================] - 11s 6ms/step - loss: 0.0047 - accuracy: 0.9991\n",
            "Epoch 50/100\n",
            "1875/1875 [==============================] - 11s 6ms/step - loss: 0.0034 - accuracy: 0.9993\n",
            "Epoch 51/100\n",
            "1875/1875 [==============================] - 12s 6ms/step - loss: 0.0047 - accuracy: 0.9989\n",
            "Epoch 52/100\n",
            "1875/1875 [==============================] - 11s 6ms/step - loss: 0.0025 - accuracy: 0.9993\n",
            "Epoch 53/100\n",
            "1875/1875 [==============================] - 11s 6ms/step - loss: 0.0028 - accuracy: 0.9992\n",
            "Epoch 54/100\n",
            "1875/1875 [==============================] - 11s 6ms/step - loss: 0.0074 - accuracy: 0.9986\n",
            "Epoch 55/100\n",
            "1875/1875 [==============================] - 11s 6ms/step - loss: 0.0018 - accuracy: 0.9996\n",
            "Epoch 56/100\n",
            "1875/1875 [==============================] - 11s 6ms/step - loss: 0.0089 - accuracy: 0.9983\n",
            "Epoch 57/100\n",
            "1875/1875 [==============================] - 11s 6ms/step - loss: 0.0032 - accuracy: 0.9994\n",
            "Epoch 58/100\n",
            "1875/1875 [==============================] - 11s 6ms/step - loss: 0.0049 - accuracy: 0.9991\n",
            "Epoch 59/100\n",
            "1875/1875 [==============================] - 11s 6ms/step - loss: 0.0046 - accuracy: 0.9993\n",
            "Epoch 60/100\n",
            "1875/1875 [==============================] - 11s 6ms/step - loss: 0.0057 - accuracy: 0.9990\n",
            "Epoch 61/100\n",
            "1875/1875 [==============================] - 11s 6ms/step - loss: 0.0027 - accuracy: 0.9994\n",
            "Epoch 62/100\n",
            "1875/1875 [==============================] - 11s 6ms/step - loss: 0.0040 - accuracy: 0.9993\n",
            "Epoch 63/100\n",
            "1875/1875 [==============================] - 11s 6ms/step - loss: 0.0067 - accuracy: 0.9991\n",
            "Epoch 64/100\n",
            "1875/1875 [==============================] - 11s 6ms/step - loss: 0.0038 - accuracy: 0.9994\n",
            "Epoch 65/100\n",
            "1875/1875 [==============================] - 11s 6ms/step - loss: 0.0047 - accuracy: 0.9992\n",
            "Epoch 66/100\n",
            "1875/1875 [==============================] - 11s 6ms/step - loss: 0.0052 - accuracy: 0.9990\n",
            "Epoch 67/100\n",
            "1875/1875 [==============================] - 11s 6ms/step - loss: 0.0033 - accuracy: 0.9993\n",
            "Epoch 68/100\n",
            "1875/1875 [==============================] - 11s 6ms/step - loss: 0.0046 - accuracy: 0.9990\n",
            "Epoch 69/100\n",
            "1875/1875 [==============================] - 11s 6ms/step - loss: 0.0032 - accuracy: 0.9995\n",
            "Epoch 70/100\n",
            "1875/1875 [==============================] - 11s 6ms/step - loss: 0.0051 - accuracy: 0.9991\n",
            "Epoch 71/100\n",
            "1875/1875 [==============================] - 11s 6ms/step - loss: 0.0030 - accuracy: 0.9993\n",
            "Epoch 72/100\n",
            "1875/1875 [==============================] - 11s 6ms/step - loss: 0.0061 - accuracy: 0.9990\n",
            "Epoch 73/100\n",
            "1875/1875 [==============================] - 11s 6ms/step - loss: 0.0019 - accuracy: 0.9995\n",
            "Epoch 74/100\n",
            "1875/1875 [==============================] - 11s 6ms/step - loss: 0.0039 - accuracy: 0.9993\n",
            "Epoch 75/100\n",
            "1875/1875 [==============================] - 11s 6ms/step - loss: 0.0015 - accuracy: 0.9997\n",
            "Epoch 76/100\n",
            "1875/1875 [==============================] - 11s 6ms/step - loss: 0.0099 - accuracy: 0.9987\n",
            "Epoch 77/100\n",
            "1875/1875 [==============================] - 11s 6ms/step - loss: 0.0013 - accuracy: 0.9998\n",
            "Epoch 78/100\n",
            "1875/1875 [==============================] - 11s 6ms/step - loss: 0.0059 - accuracy: 0.9991\n",
            "Epoch 79/100\n",
            "1875/1875 [==============================] - 12s 6ms/step - loss: 0.0036 - accuracy: 0.9994\n",
            "Epoch 80/100\n",
            "1875/1875 [==============================] - 11s 6ms/step - loss: 0.0044 - accuracy: 0.9992\n",
            "Epoch 81/100\n",
            "1875/1875 [==============================] - 11s 6ms/step - loss: 0.0055 - accuracy: 0.9992\n",
            "Epoch 82/100\n",
            "1875/1875 [==============================] - 11s 6ms/step - loss: 0.0066 - accuracy: 0.9990\n",
            "Epoch 83/100\n",
            "1875/1875 [==============================] - 11s 6ms/step - loss: 0.0058 - accuracy: 0.9991\n",
            "Epoch 84/100\n",
            "1875/1875 [==============================] - 11s 6ms/step - loss: 0.0017 - accuracy: 0.9997\n",
            "Epoch 85/100\n",
            "1875/1875 [==============================] - 11s 6ms/step - loss: 0.0060 - accuracy: 0.9991\n",
            "Epoch 86/100\n",
            "1875/1875 [==============================] - 11s 6ms/step - loss: 0.0037 - accuracy: 0.9993\n",
            "Epoch 87/100\n",
            "1875/1875 [==============================] - 11s 6ms/step - loss: 0.0033 - accuracy: 0.9994\n",
            "Epoch 88/100\n",
            "1875/1875 [==============================] - 11s 6ms/step - loss: 0.0069 - accuracy: 0.9991\n",
            "Epoch 89/100\n",
            "1875/1875 [==============================] - 11s 6ms/step - loss: 0.0066 - accuracy: 0.9991\n",
            "Epoch 90/100\n",
            "1875/1875 [==============================] - 11s 6ms/step - loss: 0.0040 - accuracy: 0.9993\n",
            "Epoch 91/100\n",
            "1875/1875 [==============================] - 11s 6ms/step - loss: 0.0029 - accuracy: 0.9995\n",
            "Epoch 92/100\n",
            "1875/1875 [==============================] - 11s 6ms/step - loss: 0.0056 - accuracy: 0.9993\n",
            "Epoch 93/100\n",
            "1875/1875 [==============================] - 11s 6ms/step - loss: 0.0058 - accuracy: 0.9992\n",
            "Epoch 94/100\n",
            "1875/1875 [==============================] - 11s 6ms/step - loss: 0.0022 - accuracy: 0.9995\n",
            "Epoch 95/100\n",
            "1875/1875 [==============================] - 11s 6ms/step - loss: 0.0021 - accuracy: 0.9995\n",
            "Epoch 96/100\n",
            "1875/1875 [==============================] - 11s 6ms/step - loss: 0.0060 - accuracy: 0.9991\n",
            "Epoch 97/100\n",
            "1875/1875 [==============================] - 11s 6ms/step - loss: 0.0047 - accuracy: 0.9994\n",
            "Epoch 98/100\n",
            "1875/1875 [==============================] - 11s 6ms/step - loss: 0.0048 - accuracy: 0.9994\n",
            "Epoch 99/100\n",
            "1875/1875 [==============================] - 11s 6ms/step - loss: 6.9447e-04 - accuracy: 0.9999\n",
            "Epoch 100/100\n",
            "1875/1875 [==============================] - 12s 6ms/step - loss: 5.0691e-05 - accuracy: 1.0000\n"
          ],
          "name": "stdout"
        }
      ]
    }
  ]
}